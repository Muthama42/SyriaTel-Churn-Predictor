{
 "cells": [
  {
   "cell_type": "code",
   "execution_count": 72,
   "metadata": {},
   "outputs": [],
   "source": [
    "### Introduction:"
   ]
  },
  {
   "cell_type": "markdown",
   "metadata": {},
   "source": [
    "In this project, I aim to develop a classifier that can predict customer churn for SyriaTel, a telecommunications company. Customer churn refers to customers who are likely to discontinue their services in the near future, posing a significant financial impact on the company. By utilizing predictive modeling techniques, I aim to identify patterns and trends within customer behavior and usage data to forecast whether a customer is at risk of churning. Through binary classification, my goal is to provide SyriaTel with actionable insights to proactively address customer retention strategies and minimize revenue loss associated with churn. Through this analysis, I aim to discover predictable patterns that can empower the telecom business to optimize customer retention efforts and enhance overall profitability."
   ]
  },
  {
   "cell_type": "markdown",
   "metadata": {},
   "source": [
    "### Business Understanding:"
   ]
  },
  {
   "cell_type": "markdown",
   "metadata": {},
   "source": [
    "![Churn Output](Images/churn_out.jpg)\n"
   ]
  },
  {
   "cell_type": "markdown",
   "metadata": {},
   "source": [
    "SyriaTel, a telecommunications company, is struggling with a substantial challenge: customer churn, which directly impacts their financial performance. To address this issue, they've initiated a predictive analytics project aimed at identifying customers at risk of churn in the near future. Leveraging historical customer data encompassing demographic information, usage patterns, and service interactions, I'm constructing a binary classifier model. This model, iteratively refined using various machine learning algorithms, provides real-time predictions of churn likelihood, enabling SyriaTel to proactively engage with at-risk customers through personalized retention strategies. Ultimately, this predictive approach empowers SyriaTel to optimize marketing efforts, enhance customer retention initiatives, and drive overall profitability."
   ]
  },
  {
   "cell_type": "code",
   "execution_count": 73,
   "metadata": {},
   "outputs": [],
   "source": [
    "### Data Understanding:"
   ]
  },
  {
   "cell_type": "markdown",
   "metadata": {},
   "source": [
    "![Exploration](exploration.jpg)\n"
   ]
  },
  {
   "cell_type": "markdown",
   "metadata": {},
   "source": [
    "## Data Understanding\n",
    "\n",
    "In preparing to use predictive modeling (logistic regression, random forests) for churn prediction at SyriaTel, the initial step involves collecting historical customer data encompassing demographics, usage patterns, subscription details, and service interactions.\n",
    "\n",
    "Subsequently, a thorough exploration of the dataset is conducted to understand its structure, identify relevant features, and preprocess the data to handle missing values and categorical variables.\n",
    "\n",
    "Following data splitting into training and testing sets, logistic regression and random forests are trained on the training data and evaluated using metrics like accuracy and F1 score.\n",
    "\n",
    "Through model optimization, hyperparameters are fine-tuned to enhance predictive performance, ensuring the model's robustness and interpretability.\n",
    "\n",
    "Ultimately, this approach enables SyriaTel to gain insights into customer churn drivers and implement targeted retention strategies effectively.\n"
   ]
  },
  {
   "cell_type": "markdown",
   "metadata": {},
   "source": [
    "### Exploratory Data Analysis:"
   ]
  },
  {
   "cell_type": "markdown",
   "metadata": {},
   "source": [
    "Importing all the necessary libraries below:"
   ]
  },
  {
   "cell_type": "code",
   "execution_count": 74,
   "metadata": {},
   "outputs": [],
   "source": [
    "import pandas as pd  # For data manipulation and analysis\n",
    "import numpy as np  # For numerical operations\n",
    "import matplotlib.pyplot as plt  # For data visualization\n",
    "import seaborn as sns  # For enhanced data visualization\n",
    "from sklearn.model_selection import train_test_split,cross_val_score,StratifiedKFold  # For splitting data into train and test sets\n",
    "from sklearn.preprocessing import StandardScaler  # For standardizing numerical features\n",
    "from sklearn.linear_model import LogisticRegression  # For logistic regression model\n",
    "from sklearn.metrics import accuracy_score, confusion_matrix, classification_report,roc_curve, auc,roc_auc_score,make_scorer,f1_score # For model evaluation metrics\n",
    "from sklearn.dummy import DummyClassifier # For creating dummy models and comparing it to our own\n",
    "from sklearn.model_selection import GridSearchCV  # For hyperparameter tuning\n",
    "import warnings\n",
    "warnings.filterwarnings(\"ignore\") # For filtering out annoying warnings lol\n",
    "from sklearn.preprocessing import LabelEncoder # For the boolean values in the dataset\n",
    "import itertools "
   ]
  },
  {
   "cell_type": "markdown",
   "metadata": {},
   "source": [
    "DataProcessing Class Definition (Initialization):\n",
    "\n",
    "Load the CSV file and examine the columns to gain an understanding of the dataset's structure and the specific features available for analysis."
   ]
  },
  {
   "cell_type": "code",
   "execution_count": 75,
   "metadata": {},
   "outputs": [],
   "source": [
    "\n",
    "\n",
    "class DataProcessing:\n",
    "    def __init__(self, file_path):\n",
    "        self.df = pd.read_csv(file_path)\n",
    "        \n",
    "    def load_data(self):\n",
    "        self.df.info()\n",
    "        print(self.df.head())\n",
    "    \n",
    "    def select_columns(self):\n",
    "        object_columns = ['state', 'voice mail plan', 'international plan', 'phone number']\n",
    "        selected_columns = self.df.loc[:, object_columns]\n",
    "        print(selected_columns.head())\n",
    "    \n",
    "    def convert_voice_mail_plan(self):\n",
    "        self.df['voice mail plan'] = self.df['voice mail plan'].apply(lambda x: True if x == 'yes' else False)\n",
    "        print(\"Voice Mail Plan Value Counts:\")\n",
    "        print(self.df['voice mail plan'].value_counts())\n",
    "    \n",
    "    def convert_international_plan(self):\n",
    "        self.df['international plan'] = self.df['international plan'].apply(lambda x: True if x == 'yes' else False)\n",
    "        print(\"International Plan Value Counts:\")\n",
    "        print(self.df['international plan'].value_counts())\n",
    "    \n",
    "    def encode_state(self):\n",
    "        encoded_states = pd.get_dummies(self.df['state'], prefix='encoded', drop_first=True)\n",
    "        self.df = pd.concat([self.df.drop(columns='state'), encoded_states], axis=1)\n",
    "        self.df.info()\n",
    "    \n",
    "    def encode_area_code(self):\n",
    "        encoded_area = pd.get_dummies(self.df['area code'], prefix='encoded', drop_first=True)\n",
    "        self.df = pd.concat([self.df.drop(columns='area code'), encoded_area], axis=1)\n",
    "        self.df.info()\n",
    "    \n",
    "    def drop_phone_number(self):\n",
    "        self.df = self.df.drop(columns='phone number')\n",
    "    \n",
    "    def check_duplicates(self):\n",
    "        duplicates = self.df.duplicated().sum()\n",
    "        print(f\"Number of duplicate rows: {duplicates}\")\n",
    "    \n",
    "    def display_churn_counts(self):\n",
    "        print(\"Churn Value Counts:\")\n",
    "        print(self.df['churn'].value_counts())\n",
    "    \n",
    "    def scale_features(self):\n",
    "        features_to_scale = ['account length', 'number vmail messages', 'total day minutes', 'total day calls',\n",
    "                             'total day charge', 'total eve minutes', 'total eve calls', 'total eve charge',\n",
    "                             'total night minutes', 'total night calls', 'total night charge', 'total intl minutes',\n",
    "                             'total intl calls', 'total intl charge', 'customer service calls']\n",
    "        scaler = StandardScaler()\n",
    "        self.df[features_to_scale] = scaler.fit_transform(self.df[features_to_scale])\n",
    "        print(self.df.describe())\n",
    "\n",
    "\n",
    "\n",
    "\n",
    "\n"
   ]
  },
  {
   "cell_type": "code",
   "execution_count": 76,
   "metadata": {},
   "outputs": [
    {
     "name": "stdout",
     "output_type": "stream",
     "text": [
      "<class 'pandas.core.frame.DataFrame'>\n",
      "RangeIndex: 3333 entries, 0 to 3332\n",
      "Data columns (total 21 columns):\n",
      " #   Column                  Non-Null Count  Dtype  \n",
      "---  ------                  --------------  -----  \n",
      " 0   state                   3333 non-null   object \n",
      " 1   account length          3333 non-null   int64  \n",
      " 2   area code               3333 non-null   int64  \n",
      " 3   phone number            3333 non-null   object \n",
      " 4   international plan      3333 non-null   object \n",
      " 5   voice mail plan         3333 non-null   object \n",
      " 6   number vmail messages   3333 non-null   int64  \n",
      " 7   total day minutes       3333 non-null   float64\n",
      " 8   total day calls         3333 non-null   int64  \n",
      " 9   total day charge        3333 non-null   float64\n",
      " 10  total eve minutes       3333 non-null   float64\n",
      " 11  total eve calls         3333 non-null   int64  \n",
      " 12  total eve charge        3333 non-null   float64\n",
      " 13  total night minutes     3333 non-null   float64\n",
      " 14  total night calls       3333 non-null   int64  \n",
      " 15  total night charge      3333 non-null   float64\n",
      " 16  total intl minutes      3333 non-null   float64\n",
      " 17  total intl calls        3333 non-null   int64  \n",
      " 18  total intl charge       3333 non-null   float64\n",
      " 19  customer service calls  3333 non-null   int64  \n",
      " 20  churn                   3333 non-null   bool   \n",
      "dtypes: bool(1), float64(8), int64(8), object(4)\n",
      "memory usage: 524.2+ KB\n",
      "  state  account length  area code phone number international plan  \\\n",
      "0    KS             128        415     382-4657                 no   \n",
      "1    OH             107        415     371-7191                 no   \n",
      "2    NJ             137        415     358-1921                 no   \n",
      "3    OH              84        408     375-9999                yes   \n",
      "4    OK              75        415     330-6626                yes   \n",
      "\n",
      "  voice mail plan  number vmail messages  total day minutes  total day calls  \\\n",
      "0             yes                     25              265.1              110   \n",
      "1             yes                     26              161.6              123   \n",
      "2              no                      0              243.4              114   \n",
      "3              no                      0              299.4               71   \n",
      "4              no                      0              166.7              113   \n",
      "\n",
      "   total day charge  ...  total eve calls  total eve charge  \\\n",
      "0             45.07  ...               99             16.78   \n",
      "1             27.47  ...              103             16.62   \n",
      "2             41.38  ...              110             10.30   \n",
      "3             50.90  ...               88              5.26   \n",
      "4             28.34  ...              122             12.61   \n",
      "\n",
      "   total night minutes  total night calls  total night charge  \\\n",
      "0                244.7                 91               11.01   \n",
      "1                254.4                103               11.45   \n",
      "2                162.6                104                7.32   \n",
      "3                196.9                 89                8.86   \n",
      "4                186.9                121                8.41   \n",
      "\n",
      "   total intl minutes  total intl calls  total intl charge  \\\n",
      "0                10.0                 3               2.70   \n",
      "1                13.7                 3               3.70   \n",
      "2                12.2                 5               3.29   \n",
      "3                 6.6                 7               1.78   \n",
      "4                10.1                 3               2.73   \n",
      "\n",
      "   customer service calls  churn  \n",
      "0                       1  False  \n",
      "1                       1  False  \n",
      "2                       0  False  \n",
      "3                       2  False  \n",
      "4                       3  False  \n",
      "\n",
      "[5 rows x 21 columns]\n"
     ]
    }
   ],
   "source": [
    "file_path = 'Datasets/Customer Churn.csv'\n",
    "processing = DataProcessing(file_path)\n",
    "\n",
    "# Load and display data\n",
    "processing.load_data()"
   ]
  },
  {
   "cell_type": "markdown",
   "metadata": {},
   "source": [
    "The dataset contains information about 3,333 customers, including various attributes related to their account and usage of telecommunication services. Here's a breakdown of the data columns and some insights:\n",
    "\n",
    "state: The state in which the customer resides (categorical variable).\n",
    "\n",
    "account length: Duration of the customer's account in days (integer).\n",
    "\n",
    "area code: Area code associated with the customer's phone number (integer).\n",
    "\n",
    "phone number: The customer's phone number (categorical variable). \n",
    "\n",
    "international plan: Whether the customer has an international calling plan (categorical variable: 'yes' or 'no').\n",
    "\n",
    "voice mail plan: Whether the customer has a voice mail plan (categorical variable: 'yes' or 'no').\n",
    "\n",
    "number vmail messages: The number of voice mail messages (integer).\n",
    "\n",
    "total day minutes: Total minutes of calls during the day (float).\n",
    "\n",
    "total day calls: Total number of calls during the day (integer).\n",
    "\n",
    "total day charge: Total charge for calls during the day (float).\n",
    "\n",
    "total eve minutes: Total minutes of calls during the evening (float).\n",
    "\n",
    "total eve calls: Total number of calls during the evening (integer).\n",
    "\n",
    "total eve charge: Total charge for calls during the evening (float).\n",
    "\n",
    "total night minutes: Total minutes of calls during the night (float).\n",
    "\n",
    "total night calls: Total number of calls during the night (integer).\n",
    "\n",
    "total night charge: Total charge for calls during the night (float).\n",
    "\n",
    "total intl minutes: Total minutes of international calls (float).\n",
    "\n",
    "total intl calls: Total number of international calls (integer).\n",
    "\n",
    "total intl charge: Total charge for international calls (float).\n",
    "\n",
    "customer service calls: Number of calls to customer service (integer).\n",
    "\n",
    "churn: Whether the customer has churned (boolean)."
   ]
  },
  {
   "cell_type": "code",
   "execution_count": 77,
   "metadata": {},
   "outputs": [
    {
     "name": "stdout",
     "output_type": "stream",
     "text": [
      "  state voice mail plan international plan phone number\n",
      "0    KS             yes                 no     382-4657\n",
      "1    OH             yes                 no     371-7191\n",
      "2    NJ              no                 no     358-1921\n",
      "3    OH              no                yes     375-9999\n",
      "4    OK              no                yes     330-6626\n"
     ]
    }
   ],
   "source": [
    "# Select specific columns\n",
    "processing.select_columns()"
   ]
  },
  {
   "cell_type": "markdown",
   "metadata": {},
   "source": [
    "I defined a method to select specific columns from the DataFrame that are relevant for further processing. Here, I selected columns that are categorical."
   ]
  },
  {
   "cell_type": "markdown",
   "metadata": {},
   "source": [
    "The dataset is complete, with no missing values, but it includes a mix of string (categorical) and float (numerical) data types. To prepare for the regression model, it is necessary to convert the categorical variables to numerical representations."
   ]
  },
  {
   "cell_type": "code",
   "execution_count": 78,
   "metadata": {},
   "outputs": [
    {
     "name": "stdout",
     "output_type": "stream",
     "text": [
      "Voice Mail Plan Value Counts:\n",
      "voice mail plan\n",
      "False    2411\n",
      "True      922\n",
      "Name: count, dtype: int64\n",
      "International Plan Value Counts:\n",
      "international plan\n",
      "False    3010\n",
      "True      323\n",
      "Name: count, dtype: int64\n"
     ]
    }
   ],
   "source": [
    "# Convert 'voice mail plan' to boolean values\n",
    "processing.convert_voice_mail_plan()\n",
    "\n",
    "# Convert 'international plan' to boolean values\n",
    "processing.convert_international_plan()"
   ]
  },
  {
   "cell_type": "markdown",
   "metadata": {},
   "source": [
    "The 'voice mail plan' and 'international plan' columns have been converted to boolean values as shown above."
   ]
  },
  {
   "cell_type": "markdown",
   "metadata": {},
   "source": [
    "Given their significance, one-hot encoding can be applied to categorize the states as well as area code, so as to enable Logistic Regression analysis. "
   ]
  },
  {
   "cell_type": "code",
   "execution_count": 79,
   "metadata": {},
   "outputs": [
    {
     "name": "stdout",
     "output_type": "stream",
     "text": [
      "<class 'pandas.core.frame.DataFrame'>\n",
      "RangeIndex: 3333 entries, 0 to 3332\n",
      "Data columns (total 22 columns):\n",
      " #   Column                  Non-Null Count  Dtype  \n",
      "---  ------                  --------------  -----  \n",
      " 0   state                   3333 non-null   object \n",
      " 1   account length          3333 non-null   int64  \n",
      " 2   phone number            3333 non-null   object \n",
      " 3   international plan      3333 non-null   bool   \n",
      " 4   voice mail plan         3333 non-null   bool   \n",
      " 5   number vmail messages   3333 non-null   int64  \n",
      " 6   total day minutes       3333 non-null   float64\n",
      " 7   total day calls         3333 non-null   int64  \n",
      " 8   total day charge        3333 non-null   float64\n",
      " 9   total eve minutes       3333 non-null   float64\n",
      " 10  total eve calls         3333 non-null   int64  \n",
      " 11  total eve charge        3333 non-null   float64\n",
      " 12  total night minutes     3333 non-null   float64\n",
      " 13  total night calls       3333 non-null   int64  \n",
      " 14  total night charge      3333 non-null   float64\n",
      " 15  total intl minutes      3333 non-null   float64\n",
      " 16  total intl calls        3333 non-null   int64  \n",
      " 17  total intl charge       3333 non-null   float64\n",
      " 18  customer service calls  3333 non-null   int64  \n",
      " 19  churn                   3333 non-null   bool   \n",
      " 20  encoded_415             3333 non-null   bool   \n",
      " 21  encoded_510             3333 non-null   bool   \n",
      "dtypes: bool(5), float64(8), int64(7), object(2)\n",
      "memory usage: 459.1+ KB\n"
     ]
    }
   ],
   "source": [
    "# Perform one-hot encoding for the 'area code' column\n",
    "processing.encode_area_code()"
   ]
  },
  {
   "cell_type": "code",
   "execution_count": 85,
   "metadata": {},
   "outputs": [
    {
     "name": "stdout",
     "output_type": "stream",
     "text": [
      "<class 'pandas.core.frame.DataFrame'>\n",
      "RangeIndex: 3333 entries, 0 to 3332\n",
      "Data columns (total 70 columns):\n",
      " #   Column                  Non-Null Count  Dtype  \n",
      "---  ------                  --------------  -----  \n",
      " 0   account length          3333 non-null   float64\n",
      " 1   international plan      3333 non-null   bool   \n",
      " 2   voice mail plan         3333 non-null   bool   \n",
      " 3   number vmail messages   3333 non-null   float64\n",
      " 4   total day minutes       3333 non-null   float64\n",
      " 5   total day calls         3333 non-null   float64\n",
      " 6   total day charge        3333 non-null   float64\n",
      " 7   total eve minutes       3333 non-null   float64\n",
      " 8   total eve calls         3333 non-null   float64\n",
      " 9   total eve charge        3333 non-null   float64\n",
      " 10  total night minutes     3333 non-null   float64\n",
      " 11  total night calls       3333 non-null   float64\n",
      " 12  total night charge      3333 non-null   float64\n",
      " 13  total intl minutes      3333 non-null   float64\n",
      " 14  total intl calls        3333 non-null   float64\n",
      " 15  total intl charge       3333 non-null   float64\n",
      " 16  customer service calls  3333 non-null   float64\n",
      " 17  churn                   3333 non-null   bool   \n",
      " 18  encoded_415             3333 non-null   bool   \n",
      " 19  encoded_510             3333 non-null   bool   \n",
      " 20  encoded_AL              3333 non-null   bool   \n",
      " 21  encoded_AR              3333 non-null   bool   \n",
      " 22  encoded_AZ              3333 non-null   bool   \n",
      " 23  encoded_CA              3333 non-null   bool   \n",
      " 24  encoded_CO              3333 non-null   bool   \n",
      " 25  encoded_CT              3333 non-null   bool   \n",
      " 26  encoded_DC              3333 non-null   bool   \n",
      " 27  encoded_DE              3333 non-null   bool   \n",
      " 28  encoded_FL              3333 non-null   bool   \n",
      " 29  encoded_GA              3333 non-null   bool   \n",
      " 30  encoded_HI              3333 non-null   bool   \n",
      " 31  encoded_IA              3333 non-null   bool   \n",
      " 32  encoded_ID              3333 non-null   bool   \n",
      " 33  encoded_IL              3333 non-null   bool   \n",
      " 34  encoded_IN              3333 non-null   bool   \n",
      " 35  encoded_KS              3333 non-null   bool   \n",
      " 36  encoded_KY              3333 non-null   bool   \n",
      " 37  encoded_LA              3333 non-null   bool   \n",
      " 38  encoded_MA              3333 non-null   bool   \n",
      " 39  encoded_MD              3333 non-null   bool   \n",
      " 40  encoded_ME              3333 non-null   bool   \n",
      " 41  encoded_MI              3333 non-null   bool   \n",
      " 42  encoded_MN              3333 non-null   bool   \n",
      " 43  encoded_MO              3333 non-null   bool   \n",
      " 44  encoded_MS              3333 non-null   bool   \n",
      " 45  encoded_MT              3333 non-null   bool   \n",
      " 46  encoded_NC              3333 non-null   bool   \n",
      " 47  encoded_ND              3333 non-null   bool   \n",
      " 48  encoded_NE              3333 non-null   bool   \n",
      " 49  encoded_NH              3333 non-null   bool   \n",
      " 50  encoded_NJ              3333 non-null   bool   \n",
      " 51  encoded_NM              3333 non-null   bool   \n",
      " 52  encoded_NV              3333 non-null   bool   \n",
      " 53  encoded_NY              3333 non-null   bool   \n",
      " 54  encoded_OH              3333 non-null   bool   \n",
      " 55  encoded_OK              3333 non-null   bool   \n",
      " 56  encoded_OR              3333 non-null   bool   \n",
      " 57  encoded_PA              3333 non-null   bool   \n",
      " 58  encoded_RI              3333 non-null   bool   \n",
      " 59  encoded_SC              3333 non-null   bool   \n",
      " 60  encoded_SD              3333 non-null   bool   \n",
      " 61  encoded_TN              3333 non-null   bool   \n",
      " 62  encoded_TX              3333 non-null   bool   \n",
      " 63  encoded_UT              3333 non-null   bool   \n",
      " 64  encoded_VA              3333 non-null   bool   \n",
      " 65  encoded_VT              3333 non-null   bool   \n",
      " 66  encoded_WA              3333 non-null   bool   \n",
      " 67  encoded_WI              3333 non-null   bool   \n",
      " 68  encoded_WV              3333 non-null   bool   \n",
      " 69  encoded_WY              3333 non-null   bool   \n",
      "dtypes: bool(55), float64(15)\n",
      "memory usage: 569.7 KB\n"
     ]
    }
   ],
   "source": [
    "processing.encode_state()"
   ]
  },
  {
   "cell_type": "markdown",
   "metadata": {},
   "source": [
    "\n",
    "I excluded the 'phone number' column from the dataset since it contains unique values, which are not relevant for analysis or modeling purposes."
   ]
  },
  {
   "cell_type": "code",
   "execution_count": 80,
   "metadata": {},
   "outputs": [],
   "source": [
    "# Drop 'phone number' column\n",
    "processing.drop_phone_number()"
   ]
  },
  {
   "cell_type": "code",
   "execution_count": 82,
   "metadata": {},
   "outputs": [
    {
     "name": "stdout",
     "output_type": "stream",
     "text": [
      "Number of duplicate rows: 0\n",
      "Churn Value Counts:\n",
      "churn\n",
      "False    2850\n",
      "True      483\n",
      "Name: count, dtype: int64\n"
     ]
    }
   ],
   "source": [
    "# Check for duplicates\n",
    "processing.check_duplicates()\n",
    "\n",
    "# Display the count of churn values\n",
    "processing.display_churn_counts()"
   ]
  },
  {
   "cell_type": "markdown",
   "metadata": {},
   "source": [
    "I displayed the value counts for the 'churn' column to understand the distribution of the target variable. This helps in understanding the class distribution and identifying any potential imbalance."
   ]
  },
  {
   "cell_type": "code",
   "execution_count": 83,
   "metadata": {},
   "outputs": [
    {
     "name": "stdout",
     "output_type": "stream",
     "text": [
      "       account length  number vmail messages  total day minutes  \\\n",
      "count    3.333000e+03           3.333000e+03       3.333000e+03   \n",
      "mean    -8.527366e-18          -5.969156e-17      -5.329603e-19   \n",
      "std      1.000150e+00           1.000150e+00       1.000150e+00   \n",
      "min     -2.513172e+00          -5.917599e-01      -3.301096e+00   \n",
      "25%     -6.797448e-01          -5.917599e-01      -6.624241e-01   \n",
      "50%     -1.627644e-03          -5.917599e-01      -6.887677e-03   \n",
      "75%      6.513740e-01           8.695542e-01       6.725198e-01   \n",
      "max      3.564766e+00           3.134591e+00       3.140422e+00   \n",
      "\n",
      "       total day calls  total day charge  total eve minutes  total eve calls  \\\n",
      "count     3.333000e+03      3.333000e+03       3.333000e+03     3.333000e+03   \n",
      "mean      3.197762e-18      2.131841e-18      -1.705473e-17     1.545585e-17   \n",
      "std       1.000150e+00      1.000150e+00       1.000150e+00     1.000150e+00   \n",
      "min      -5.005247e+00     -3.301162e+00      -3.963622e+00    -5.025911e+00   \n",
      "25%      -6.695701e-01     -6.623760e-01      -6.780300e-01    -6.583610e-01   \n",
      "50%       2.812491e-02     -6.730063e-03       8.276141e-03    -5.738630e-03   \n",
      "75%       6.759846e-01      6.726790e-01       6.768330e-01     6.970854e-01   \n",
      "max       3.217588e+00      3.140803e+00       3.209066e+00     3.508382e+00   \n",
      "\n",
      "       total eve charge  total night minutes  total night calls  \\\n",
      "count      3.333000e+03         3.333000e+03       3.333000e+03   \n",
      "mean      -6.395524e-18         1.279105e-17      -3.144466e-17   \n",
      "std        1.000150e+00         1.000150e+00       1.000150e+00   \n",
      "min       -3.963679e+00        -3.513648e+00      -3.429870e+00   \n",
      "25%       -6.783123e-01        -6.698545e-01      -6.699340e-01   \n",
      "50%        8.459274e-03         6.485803e-03      -5.505089e-03   \n",
      "75%        6.766695e-01         6.808485e-01       6.589239e-01   \n",
      "max        3.207980e+00         3.839081e+00       3.827739e+00   \n",
      "\n",
      "       total night charge  total intl minutes  total intl calls  \\\n",
      "count        3.333000e+03        3.333000e+03      3.333000e+03   \n",
      "mean        -1.918657e-17        2.984578e-17     -8.527366e-18   \n",
      "std          1.000150e+00        1.000150e+00      1.000150e+00   \n",
      "min         -3.515366e+00       -3.667413e+00     -1.820289e+00   \n",
      "25%         -6.676792e-01       -6.223690e-01     -6.011951e-01   \n",
      "50%          4.691242e-03        2.246393e-02     -1.948306e-01   \n",
      "75%          6.814562e-01        6.672969e-01      6.178983e-01   \n",
      "max          3.836763e+00        3.497397e+00      6.307001e+00   \n",
      "\n",
      "       total intl charge  customer service calls  \n",
      "count       3.333000e+03            3.333000e+03  \n",
      "mean        2.345026e-17            8.527366e-18  \n",
      "std         1.000150e+00            1.000150e+00  \n",
      "min        -3.668210e+00           -1.188218e+00  \n",
      "25%        -6.164341e-01           -4.279320e-01  \n",
      "50%         2.045823e-02           -4.279320e-01  \n",
      "75%         6.706192e-01            3.323545e-01  \n",
      "max         3.496829e+00            5.654360e+00  \n"
     ]
    }
   ],
   "source": [
    "\n",
    "\n",
    "# Scale specific features\n",
    "processing.scale_features()"
   ]
  },
  {
   "cell_type": "markdown",
   "metadata": {},
   "source": [
    "Finally, I performed feature scaling only on the continuous features, excluding the one-hot encoded variables and boolean data types. Scaling is important as it brings all the features to the same scale, which improves the performance of machine learning models. I used StandardScaler from sklearn for this purpose, which standardizes the features by removing the mean and scaling to unit variance.\n",
    "\n",
    "\n",
    "\n",
    "\n",
    "\n",
    "\n",
    "\n",
    "\n",
    "\n"
   ]
  }
 ],
 "metadata": {
  "kernelspec": {
   "display_name": "base",
   "language": "python",
   "name": "python3"
  },
  "language_info": {
   "codemirror_mode": {
    "name": "ipython",
    "version": 3
   },
   "file_extension": ".py",
   "mimetype": "text/x-python",
   "name": "python",
   "nbconvert_exporter": "python",
   "pygments_lexer": "ipython3",
   "version": "3.11.5"
  }
 },
 "nbformat": 4,
 "nbformat_minor": 2
}
